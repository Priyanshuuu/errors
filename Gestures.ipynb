{
 "cells": [
  {
   "cell_type": "code",
   "execution_count": 2,
   "metadata": {},
   "outputs": [],
   "source": [
    "import cv2\n",
    "import numpy as np\n",
    "import os"
   ]
  },
  {
   "cell_type": "code",
   "execution_count": 3,
   "metadata": {},
   "outputs": [],
   "source": [
    "image_x, image_y=50, 50"
   ]
  },
  {
   "cell_type": "code",
   "execution_count": 4,
   "metadata": {},
   "outputs": [],
   "source": [
    "def create_folder(forlder_name):\n",
    "    if not os.path.exists(forlder_name):\n",
    "        os.mkdir(forlder_name)"
   ]
  },
  {
   "cell_type": "code",
   "execution_count": 5,
   "metadata": {},
   "outputs": [],
   "source": [
    "def store_image(g_id):\n",
    "    total_pics=1200\n",
    "    cap=cv2.VideoCapture(0)\n",
    "    x, y, w, h=300, 50, 350, 350\n",
    "    \n",
    "    create_folder(\"C:\\\\Users\\\\Lenovo\\\\gestures/\" + str(g_id))\n",
    "    pic_no=0\n",
    "    flag_start_capturing=False\n",
    "    frame=0\n",
    "    \n",
    "    while True:\n",
    "        ret, frame = cap.read()\n",
    "        frame = cv2.flip(frame, 1)\n",
    "        hsv=cv2.cvtColor(frame, cv2.COLOR_BGR2HSV)\n",
    "        mask2=cv2.inRange(hsv, np.array([2, 50, 60]), np.array([25, 150, 255]))\n",
    "        res=cv2.bitwise_and(frame, frame, mask=mask2)\n",
    "        gray=cv2.cvtColor(res, cv2.COLOR_BGR2GRAY)\n",
    "        median=cv2.GaussianBlur(gray, (5, 5), 0)\n",
    "            \n",
    "        kernel_square=np.ones((5, 5), np.uint8)\n",
    "        dilation=cv2.dilate(median, kernel_square, iterations=2)\n",
    "        opening=cv2.morphologyEx(dilation, cv2.MORPH_CLOSE, kernel_square)\n",
    "            \n",
    "        ret, thresh=cv2.threshold(opening, 30, 255, cv2.THRESH_BINARY)\n",
    "        thresh=thresh[y:y + h, x:x + w]\n",
    "        contours=cv2.findContours(thresh.copy(), cv2.RETR_TREE, cv2.CHAIN_APPROX_NONE)[0]\n",
    "            \n",
    "        if len(contours)>0:\n",
    "            contour= max(contours, key=cv2.contourArea)\n",
    "            if cv2.contourArea(contour)>10000 and frame>50:\n",
    "                x1, y1, w1, h1=cv2.boundingRect(contour)\n",
    "                pic_no+=1\n",
    "                save_img=thresh[y1:y1 +h1, x1:x1 + w1]\n",
    "                save_img=cv2.resize(save_img, (image_x, image_y))\n",
    "                cv2.putText(frame, \"Capturing...\", (30, 60), cv2.FONT_HERSHEY_TRIPLEX, 2, (127, 255, 255))\n",
    "                cv2.imwrite(\"C:\\\\Users\\\\Lenovo\\\\gestures/\" + str(g_id) + \"/\" + str(pic_no) + \".jpg\", save_img)\n",
    "            cv2.rectangle(frame, (x, y), (x+w, y+h), (0, 255, 0), 2)\n",
    "            cv2.putText(frame, str(pic_no), (30, 400), cv2.FONT_HERSHEY_TRIPLEX, 1.5, (127, 127, 255))\n",
    "            cv2.imshow(\"Capturing gestures\", frame)\n",
    "            cv2.imshow(\"thresh\", thresh)\n",
    "            keypress=cv2.waitKey(1)\n",
    "            if keypress==ord('c'):\n",
    "                if flag_start_capturing==False:\n",
    "                    flag_start_capturing= True\n",
    "                else:\n",
    "                    flag_start_capturing=False\n",
    "                    frame=0\n",
    "                if flag_start_capturing== True:\n",
    "                    frame+=1\n",
    "                if pic_no==total_pics:\n",
    "                    break\n",
    "                        \n",
    "                        "
   ]
  },
  {
   "cell_type": "code",
   "execution_count": 6,
   "metadata": {},
   "outputs": [
    {
     "name": "stdout",
     "output_type": "stream",
     "text": [
      "Enter gestures no.:1\n"
     ]
    },
    {
     "ename": "ValueError",
     "evalue": "The truth value of an array with more than one element is ambiguous. Use a.any() or a.all()",
     "output_type": "error",
     "traceback": [
      "\u001b[1;31m---------------------------------------------------------------------------\u001b[0m",
      "\u001b[1;31mValueError\u001b[0m                                Traceback (most recent call last)",
      "\u001b[1;32m<ipython-input-6-e9fc968b0880>\u001b[0m in \u001b[0;36m<module>\u001b[1;34m\u001b[0m\n\u001b[0;32m      1\u001b[0m \u001b[0mg_id\u001b[0m\u001b[1;33m=\u001b[0m\u001b[0minput\u001b[0m\u001b[1;33m(\u001b[0m\u001b[1;34m\"Enter gestures no.:\"\u001b[0m\u001b[1;33m)\u001b[0m\u001b[1;33m\u001b[0m\u001b[1;33m\u001b[0m\u001b[0m\n\u001b[1;32m----> 2\u001b[1;33m \u001b[0mstore_image\u001b[0m\u001b[1;33m(\u001b[0m\u001b[0mg_id\u001b[0m\u001b[1;33m)\u001b[0m\u001b[1;33m\u001b[0m\u001b[1;33m\u001b[0m\u001b[0m\n\u001b[0m",
      "\u001b[1;32m<ipython-input-5-9d78157c0702>\u001b[0m in \u001b[0;36mstore_image\u001b[1;34m(g_id)\u001b[0m\n\u001b[0;32m     28\u001b[0m         \u001b[1;32mif\u001b[0m \u001b[0mlen\u001b[0m\u001b[1;33m(\u001b[0m\u001b[0mcontours\u001b[0m\u001b[1;33m)\u001b[0m\u001b[1;33m>\u001b[0m\u001b[1;36m0\u001b[0m\u001b[1;33m:\u001b[0m\u001b[1;33m\u001b[0m\u001b[1;33m\u001b[0m\u001b[0m\n\u001b[0;32m     29\u001b[0m             \u001b[0mcontour\u001b[0m\u001b[1;33m=\u001b[0m \u001b[0mmax\u001b[0m\u001b[1;33m(\u001b[0m\u001b[0mcontours\u001b[0m\u001b[1;33m,\u001b[0m \u001b[0mkey\u001b[0m\u001b[1;33m=\u001b[0m\u001b[0mcv2\u001b[0m\u001b[1;33m.\u001b[0m\u001b[0mcontourArea\u001b[0m\u001b[1;33m)\u001b[0m\u001b[1;33m\u001b[0m\u001b[1;33m\u001b[0m\u001b[0m\n\u001b[1;32m---> 30\u001b[1;33m             \u001b[1;32mif\u001b[0m \u001b[0mcv2\u001b[0m\u001b[1;33m.\u001b[0m\u001b[0mcontourArea\u001b[0m\u001b[1;33m(\u001b[0m\u001b[0mcontour\u001b[0m\u001b[1;33m)\u001b[0m\u001b[1;33m>\u001b[0m\u001b[1;36m10000\u001b[0m \u001b[1;32mand\u001b[0m \u001b[0mframe\u001b[0m\u001b[1;33m>\u001b[0m\u001b[1;36m50\u001b[0m\u001b[1;33m:\u001b[0m\u001b[1;33m\u001b[0m\u001b[1;33m\u001b[0m\u001b[0m\n\u001b[0m\u001b[0;32m     31\u001b[0m                 \u001b[0mx1\u001b[0m\u001b[1;33m,\u001b[0m \u001b[0my1\u001b[0m\u001b[1;33m,\u001b[0m \u001b[0mw1\u001b[0m\u001b[1;33m,\u001b[0m \u001b[0mh1\u001b[0m\u001b[1;33m=\u001b[0m\u001b[0mcv2\u001b[0m\u001b[1;33m.\u001b[0m\u001b[0mboundingRect\u001b[0m\u001b[1;33m(\u001b[0m\u001b[0mcontour\u001b[0m\u001b[1;33m)\u001b[0m\u001b[1;33m\u001b[0m\u001b[1;33m\u001b[0m\u001b[0m\n\u001b[0;32m     32\u001b[0m                 \u001b[0mpic_no\u001b[0m\u001b[1;33m+=\u001b[0m\u001b[1;36m1\u001b[0m\u001b[1;33m\u001b[0m\u001b[1;33m\u001b[0m\u001b[0m\n",
      "\u001b[1;31mValueError\u001b[0m: The truth value of an array with more than one element is ambiguous. Use a.any() or a.all()"
     ]
    }
   ],
   "source": [
    "g_id=input(\"Enter gestures no.:\")\n",
    "store_image(g_id)"
   ]
  }
 ],
 "metadata": {
  "kernelspec": {
   "display_name": "Python 3",
   "language": "python",
   "name": "python3"
  },
  "language_info": {
   "codemirror_mode": {
    "name": "ipython",
    "version": 3
   },
   "file_extension": ".py",
   "mimetype": "text/x-python",
   "name": "python",
   "nbconvert_exporter": "python",
   "pygments_lexer": "ipython3",
   "version": "3.6.7"
  }
 },
 "nbformat": 4,
 "nbformat_minor": 2
}
